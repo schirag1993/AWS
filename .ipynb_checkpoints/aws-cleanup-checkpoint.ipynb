{
 "cells": [
  {
   "cell_type": "markdown",
   "metadata": {},
   "source": [
    "# AWS Clean Up Script\n",
    "\n",
    "This script will clean up all the resources on an individual/organization's AWS account. This script is still in development and a lot of work is still pending. Although the notebook is self explanatory, a little study on core AWS SDK features will be of use.\n",
    "\n",
    "### Things to Improve on:\n",
    "\n",
    "1. Use sets wherever possible to reduce to the number of filter operations\n",
    "2. Exception handling still needs to be done\n",
    "3. Alert generation through SNS, MailGun and Twilio needs to be implemented"
   ]
  },
  {
   "cell_type": "markdown",
   "metadata": {},
   "source": [
    "## Libraries"
   ]
  },
  {
   "cell_type": "code",
   "execution_count": 1,
   "metadata": {
    "collapsed": true
   },
   "outputs": [],
   "source": [
    "import boto3, json\n",
    "from pprint import pprint"
   ]
  },
  {
   "cell_type": "markdown",
   "metadata": {},
   "source": [
    "## Credentials"
   ]
  },
  {
   "cell_type": "code",
   "execution_count": 2,
   "metadata": {
    "collapsed": true
   },
   "outputs": [],
   "source": [
    "def getAWSCreds():\n",
    "    credentials = json.load(open('../esrcd.json'))\n",
    "    awsCreds = credentials['aws']\n",
    "    return(awsCreds)"
   ]
  },
  {
   "cell_type": "markdown",
   "metadata": {},
   "source": [
    "## Sessions and Resources"
   ]
  },
  {
   "cell_type": "code",
   "execution_count": 3,
   "metadata": {
    "collapsed": true
   },
   "outputs": [],
   "source": [
    "def createSession():\n",
    "    session = boto3.session.Session(aws_access_key_id=getAWSCreds()['accessKey'], \n",
    "                                    aws_secret_access_key=getAWSCreds()['secretKey'])\n",
    "    return(session)\n",
    "\n",
    "def createResourceObj(resourceName, regionName):\n",
    "    resource = boto3.resource(resourceName, region_name=regionName, \n",
    "                              aws_access_key_id=getAWSCreds()['accessKey'], \n",
    "                              aws_secret_access_key=getAWSCreds()['secretKey'])\n",
    "    return(resource)\n",
    "\n",
    "def createClient(resourceName,regionName):\n",
    "    client = boto3.client(resourceName, region_name=regionName,\n",
    "                          aws_access_key_id=getAWSCreds()['accessKey'], \n",
    "                          aws_secret_access_key=getAWSCreds()['secretKey'])\n",
    "    return(client)"
   ]
  },
  {
   "cell_type": "markdown",
   "metadata": {},
   "source": [
    "## Regions and Services"
   ]
  },
  {
   "cell_type": "code",
   "execution_count": 4,
   "metadata": {
    "collapsed": true
   },
   "outputs": [],
   "source": [
    "def getAllRegions(session):\n",
    "    return(session.get_available_regions('ec2', partition_name='aws'))\n",
    "\n",
    "def getAllServices(session):\n",
    "    return(session.get_available_services())"
   ]
  },
  {
   "cell_type": "code",
   "execution_count": 5,
   "metadata": {
    "collapsed": true
   },
   "outputs": [],
   "source": [
    "def getAllServicesAndRegions(session):\n",
    "    allServices = getAllServices(session)\n",
    "    serviceDict = {}\n",
    "    for service in allServices:\n",
    "        availableRegions = session.get_available_regions(service, partition_name='aws')\n",
    "        serviceDict[service] = availableRegions\n",
    "    return(serviceDict)"
   ]
  },
  {
   "cell_type": "code",
   "execution_count": 6,
   "metadata": {
    "collapsed": true
   },
   "outputs": [],
   "source": [
    "def getIncludedRegions(excludedRegions, session):\n",
    "    allRegions = getAllRegions(session)\n",
    "    return([region for region in allRegions if region not in excludedRegions])\n",
    "\n",
    "def getIncludedServices(excludedServices, session):\n",
    "    allServices = getAllServices(session)\n",
    "    return([service for service in allServices if service not in excludedServices])\n",
    "\n",
    "def getShortlistedRegions(includedRegions, validRegions):\n",
    "    return([region for region in includedRegions if region in validRegions])\n",
    "\n",
    "def getAllRegionsForService(serviceName, session):\n",
    "    return(session.get_available_regions(serviceName, partition_name='aws'))"
   ]
  },
  {
   "cell_type": "markdown",
   "metadata": {},
   "source": [
    "# Autoscaling"
   ]
  },
  {
   "cell_type": "markdown",
   "metadata": {},
   "source": [
    "### AutoScaling Groups"
   ]
  },
  {
   "cell_type": "code",
   "execution_count": 88,
   "metadata": {
    "collapsed": true
   },
   "outputs": [],
   "source": [
    "def getAutoscalingGroupNames(autoScaling):\n",
    "    asGroups = autoScaling.describe_auto_scaling_groups()['AutoScalingGroups']\n",
    "    asGroupNames = []\n",
    "    for group in asGroups:\n",
    "        groupName = group['AutoScalingGroupName']\n",
    "        asGroupNames.append(groupName)\n",
    "    return(asGroupNames)"
   ]
  },
  {
   "cell_type": "code",
   "execution_count": 89,
   "metadata": {
    "collapsed": false
   },
   "outputs": [],
   "source": [
    "def deleteAutoscalingGroups(includedRegions):\n",
    "    for region in includedRegions:\n",
    "        autoScaling = createClient('autoscaling', region)\n",
    "        asGroupNames = getAutoscalingGroupNames(autoScaling)\n",
    "        for groupName in asGroupNames:\n",
    "            try:\n",
    "                res = autoScaling.delete_auto_scaling_group(AutoScalingGroupName=groupName,\n",
    "                                                            ForceDelete=True)\n",
    "                if(res['ResponseMetadata']['HTTPStatusCode'] != 200):\n",
    "                    print(\"Something went wrong!\")\n",
    "                    # Add twilio section here\n",
    "                    pprint(res)\n",
    "            except Exception as e:\n",
    "                exp = e\n",
    "                print(e.response['Error']['Code'])\n",
    "                twilioMsg = 'GroupName: {0}; Operation: {1}; Code: {2}; Cause: {3}'.format(groupName,\n",
    "                                                                                           e.operation_name,\n",
    "                                                                                           e.response['Error']['Code'],\n",
    "                                                                                           e.response['Error']['Message'])\n",
    "                print(twilioMsg)\n",
    "                return(False)\n",
    "                # Add twilio section here\n",
    "    print(\"Autoscaling: All done!\")\n",
    "    return(True)"
   ]
  },
  {
   "cell_type": "markdown",
   "metadata": {},
   "source": [
    "### Launch Configurations"
   ]
  },
  {
   "cell_type": "code",
   "execution_count": 132,
   "metadata": {
    "collapsed": true
   },
   "outputs": [],
   "source": [
    "def listLaunchConfigurations(autoScale):\n",
    "    return(autoScale.describe_launch_configurations()['LaunchConfigurations'])"
   ]
  },
  {
   "cell_type": "code",
   "execution_count": 139,
   "metadata": {
    "collapsed": true
   },
   "outputs": [],
   "source": [
    "def deleteLaunchConfigurations(includedRegions):\n",
    "    for region in includedRegions:\n",
    "        autoScale = createClient('autoscaling', region)\n",
    "        configList = listLaunchConfigurations(autoScale)\n",
    "        for config in configList:\n",
    "            launchConfigName = config['LaunchConfigurationName']\n",
    "            print(\"Launch config name: \" + launchConfigName)\n",
    "            try:\n",
    "                res = ec2.delete_launch_configuration(LaunchConfigurationName=launchConfigName)\n",
    "                pprint(res)\n",
    "            except Exception as e:\n",
    "                pprint(e.response)\n",
    "                twilioMsg = 'Launch Config Name: {3}; Error Code: {0}; Operation Name: {1}; Date: {2}'.format(e.response['Error']['Code'],\n",
    "                                                                                    e.operation_name,\n",
    "                                                                                    e.response['ResponseMetadata']['HTTPHeaders']['date'],\n",
    "                                                                                                             launchConfigName)\n",
    "                print(twilioMsg)\n",
    "                #Add twilio code here\n",
    "        print(\"Launch Configurations: All done!\")"
   ]
  },
  {
   "cell_type": "markdown",
   "metadata": {},
   "source": [
    "## EC2"
   ]
  },
  {
   "cell_type": "markdown",
   "metadata": {},
   "source": [
    "### Volumes"
   ]
  },
  {
   "cell_type": "code",
   "execution_count": 90,
   "metadata": {
    "collapsed": true
   },
   "outputs": [],
   "source": [
    "def getVolumeIds(ec2):\n",
    "    volumesIds = []\n",
    "    for vol in ec2.volumes.filter(Filters=[\n",
    "        {\n",
    "            'Name': 'attachment.status',\n",
    "            'Values': [\n",
    "                'detached'\n",
    "            ]\n",
    "        },\n",
    "    ]):\n",
    "        volumesIds.append(vol.id)\n",
    "    return(volumesIds)"
   ]
  },
  {
   "cell_type": "code",
   "execution_count": 91,
   "metadata": {
    "collapsed": true
   },
   "outputs": [],
   "source": [
    "def deleteVolumes(includedRegions):\n",
    "    for region in includedRegions:\n",
    "        ec2 = createResourceObj('ec2',region)\n",
    "        volumeIds = getVolumeIds(ec2)\n",
    "        for volumeId in volumeIds:\n",
    "            volume = ec2.Volume(volumeId).delete(DryRun=False)\n",
    "    print(\"Deleted all detached volumes!\")"
   ]
  },
  {
   "cell_type": "markdown",
   "metadata": {},
   "source": [
    "### Elastic IP"
   ]
  },
  {
   "cell_type": "code",
   "execution_count": 92,
   "metadata": {
    "collapsed": true
   },
   "outputs": [],
   "source": [
    "def getIds(ec2):\n",
    "    elasticIps = []\n",
    "    for address in ec2.describe_addresses()['Addresses']:\n",
    "        elasticIps.append({\n",
    "            \"AssociationId\" : address['AssociationId'],\n",
    "            \"AllocationId\"  : address['AllocationId']\n",
    "        })\n",
    "    return(elasticIps)"
   ]
  },
  {
   "cell_type": "code",
   "execution_count": 93,
   "metadata": {
    "collapsed": true
   },
   "outputs": [],
   "source": [
    "def disassociateIPs(ec2, elasticIps):\n",
    "    for ip in elasticIps:\n",
    "        disassociateRes = ec2.disassociate_address(AssociationId=ip['AssociationId'])\n",
    "        if(disassociateRes['ResponseMetadata']['HTTPStatusCode'] != 200):\n",
    "            print(\"Disassociation failed!\")\n",
    "            pprint(disassociateRes)\n",
    "        else:\n",
    "            print(\"Disassociation response:\")\n",
    "            pprint(disassociateRes)\n",
    "    print(\"Disassociate IPs: All done!\")    "
   ]
  },
  {
   "cell_type": "code",
   "execution_count": 94,
   "metadata": {
    "collapsed": true
   },
   "outputs": [],
   "source": [
    "def releaseIPs(ec2, elasticIps):\n",
    "    for ip in elasticIps:\n",
    "        releaseResponse = ec2.release_address(AllocationId=ip['AllocationId'])\n",
    "        if(releaseResponse['ResponseMetadata']['HTTPStatusCode'] != 200):\n",
    "            print(\"Release failed!\")\n",
    "            pprint(releaseResponse)\n",
    "        else:\n",
    "            print(\"Release response:\")\n",
    "            pprint(releaseResponse)\n",
    "    print(\"Release IPs: All done!\")"
   ]
  },
  {
   "cell_type": "code",
   "execution_count": 95,
   "metadata": {
    "collapsed": true
   },
   "outputs": [],
   "source": [
    "def deleteElasticIPs(includedRegions):\n",
    "    print(\"Deleting IPs\")\n",
    "    elasticIps = []\n",
    "    for region in includedRegions:\n",
    "        print(\"Region: {}\".format(region))\n",
    "        ec2 = createClient('ec2', region)\n",
    "        elasticIps = getIds(ec2)\n",
    "        disassociateIPs(ec2, elasticIps)\n",
    "        releaseIPs(ec2, elasticIps)\n",
    "    print(\"Elastic IPs: All done!\")"
   ]
  },
  {
   "cell_type": "markdown",
   "metadata": {},
   "source": [
    "### EC2 Instances"
   ]
  },
  {
   "cell_type": "code",
   "execution_count": 96,
   "metadata": {
    "collapsed": true
   },
   "outputs": [],
   "source": [
    "def deleteEC2Instances(includedRegions):\n",
    "    instanceIds = listEC2InstanceIds(includedRegions)\n",
    "    for region in instanceIds.keys():\n",
    "        ec2 = createResourceObj('ec2', region)\n",
    "        for instanceId in instanceIds[region]:\n",
    "            instance = ec2.Instance(id=instanceId).terminate(DryRun=False)\n",
    "            print(\"Deleted!\")\n",
    "    print(\"EC2: Instances: All done!\")\n",
    "\n",
    "def listEC2InstanceIds(includedRegions):\n",
    "    instanceIds = {}\n",
    "    for region in includedRegions:\n",
    "        ec2 = createResourceObj('ec2', region)\n",
    "        instances = ec2.instances.filter(\n",
    "        Filters=[{'Name': 'instance-state-name', 'Values': ['running','stopped']}])\n",
    "        for instance in instances:\n",
    "            if(region not in instanceIds.keys()):\n",
    "                instanceIds.setdefault(region,[]).append(instance.id)\n",
    "            else:\n",
    "                instanceIds[region].append(instance.id)\n",
    "    pprint(instanceIds)\n",
    "    return(instanceIds)"
   ]
  },
  {
   "cell_type": "markdown",
   "metadata": {},
   "source": [
    "## SNS"
   ]
  },
  {
   "cell_type": "code",
   "execution_count": 97,
   "metadata": {
    "collapsed": true
   },
   "outputs": [],
   "source": [
    "def getExcludedTopics():\n",
    "    topicList = ''\n",
    "    return(topicList.split())\n",
    "\n",
    "def getTopics(includedRegions, session, excludedTopics):\n",
    "    snsRegions = getShortlistedRegions(includedRegions, getAllRegionsForService('sns', session))\n",
    "    topics = []\n",
    "    for region in snsRegions:\n",
    "            print(\"Region: {}\".format(region))\n",
    "            sns = createResourceObj('sns', region)\n",
    "            for topic in sns.topics.all():\n",
    "                if(topic.arn not in excludedTopics):\n",
    "                    topics.append(topic)\n",
    "    return(topics)"
   ]
  },
  {
   "cell_type": "code",
   "execution_count": 98,
   "metadata": {
    "collapsed": true
   },
   "outputs": [],
   "source": [
    "def deleteTopics(includedRegions, session):\n",
    "    topics = getTopics(includedRegions, session, getExcludedTopics())\n",
    "    for topic in topics:\n",
    "        response = topic.delete()\n",
    "        if(response['ResponseMetadata']['HTTPStatusCode'] != 200):\n",
    "            print(\"Something went wrong\")\n",
    "            #Add Twilio code here\n",
    "            pprint(response)\n",
    "        else:\n",
    "            print(\"Deleted:\")\n",
    "            print(\"++++++++++\")\n",
    "            pprint(response)\n",
    "    print(\"SNS: Topics: All done!\")"
   ]
  },
  {
   "cell_type": "markdown",
   "metadata": {},
   "source": [
    "## S3 Buckets"
   ]
  },
  {
   "cell_type": "code",
   "execution_count": 99,
   "metadata": {
    "collapsed": true
   },
   "outputs": [],
   "source": [
    "def getExcludedBucketNames():\n",
    "    return('chiragbilling chiragwebsite'.split())\n",
    "\n",
    "def listValidBuckets(s3):\n",
    "    validBuckets = []\n",
    "    for bucket in s3.buckets.all():\n",
    "        print(bucket.name)\n",
    "        if(bucket.name not in getExcludedBucketNames()):\n",
    "            print(\"Added bucket\")\n",
    "            validBuckets.append(bucket)\n",
    "    return(validBuckets)\n",
    "\n",
    "def deleteObjects(s3, validBuckets):\n",
    "    Delete = {'Objects':[]}\n",
    "    for bucket in validBuckets:\n",
    "        for page in bucket.objects.pages():\n",
    "            for obj in page:\n",
    "                print(obj.key)\n",
    "                Delete['Objects'].append({\n",
    "                    'Key' : obj.key\n",
    "                })\n",
    "            bucket.delete_objects(Delete=Delete)\n",
    "            print(\"Page complete. Deleted objects\")\n",
    "        print(\"All pages complete.\")\n",
    "\n",
    "def deleteS3Buckets():\n",
    "    s3 = createResourceObj('s3', 'ap-south-1')\n",
    "    validBuckets = listValidBuckets(s3)\n",
    "    deleteObjects(s3, validBuckets)\n",
    "    for bucket in validBuckets:\n",
    "        bucket.delete()\n",
    "        print(\"Bucket deleted!\")\n",
    "    print(\"S3: All done!\")"
   ]
  },
  {
   "cell_type": "markdown",
   "metadata": {},
   "source": [
    "## DynamoDB"
   ]
  },
  {
   "cell_type": "code",
   "execution_count": 100,
   "metadata": {
    "collapsed": false
   },
   "outputs": [],
   "source": [
    "def getTableList(dynamo):\n",
    "    tableList = []\n",
    "    for table in dynamo.tables.all():\n",
    "        tableList.append(table)\n",
    "    return(tableList)\n",
    "\n",
    "def deleteTableList(tableList):\n",
    "    for table in tableList:\n",
    "            response = table.delete()\n",
    "            if(response['ResponseMetadata']['HTTPStatusCode']!=200):\n",
    "                print(\"Something went wrong!\")\n",
    "                #Add twilio code here\n",
    "            else:\n",
    "                print(\"Success!\")\n",
    "                pprint(response)\n",
    "\n",
    "def deleteDynamoTables(includedRegions, session):\n",
    "    validRegions = getShortlistedRegions(includedRegions, getAllRegionsForService('dynamodb', session))\n",
    "    for region in validRegions:\n",
    "        print(\"Region: {}\".format(region))\n",
    "        dynamo = createResourceObj('dynamodb', region)\n",
    "        tableList = getTableList(dynamo)\n",
    "        deleteTableList(tableList)\n",
    "    print(\"DynamoDB: All done!\")"
   ]
  },
  {
   "cell_type": "markdown",
   "metadata": {},
   "source": [
    "## SQS"
   ]
  },
  {
   "cell_type": "code",
   "execution_count": 101,
   "metadata": {
    "collapsed": true
   },
   "outputs": [],
   "source": [
    "def getAllQueues(sqs):\n",
    "    return(sqs.queues.all())\n",
    "\n",
    "def deleteQueue(queue):\n",
    "    response = queue.delete()\n",
    "    if(response['ResponseMetadata']['HTTPStatusCode']!=200):\n",
    "        print(\"Something went wrong!\")\n",
    "        pprint(response)\n",
    "        #Add twilio code here\n",
    "    else:\n",
    "        print(\"Success!\")\n",
    "        pprint(response)\n",
    "\n",
    "def deleteSQS(includedRegions):\n",
    "    validRegions = getShortlistedRegions(includedRegions, getAllRegionsForService('sqs', session))\n",
    "    for region in validRegions:\n",
    "        sqs = createResourceObj('sqs', region)\n",
    "        for q in getAllQueues(sqs):\n",
    "            deleteQueue(q)\n",
    "    print(\"SQS: All done!\")"
   ]
  },
  {
   "cell_type": "markdown",
   "metadata": {},
   "source": [
    "# Not Tested:"
   ]
  },
  {
   "cell_type": "markdown",
   "metadata": {},
   "source": [
    "************************************************************************************************************"
   ]
  },
  {
   "cell_type": "markdown",
   "metadata": {},
   "source": [
    "## Testing Section"
   ]
  },
  {
   "cell_type": "code",
   "execution_count": 20,
   "metadata": {
    "collapsed": true
   },
   "outputs": [],
   "source": [
    "excludedRegions = ['us-east-1']\n",
    "excludedServices = ['cloudwatch', 'budgets']"
   ]
  },
  {
   "cell_type": "code",
   "execution_count": 21,
   "metadata": {
    "collapsed": true
   },
   "outputs": [],
   "source": [
    "session = createSession()\n",
    "# allRegions = getAllRegions(session)\n",
    "# allServicesRegions = getAllServicesAndRegions(session)\n",
    "# allServices = getAllServices(session)\n",
    "includedRegions = getIncludedRegions(excludedRegions, session)\n",
    "includedServices = getIncludedServices(excludedServices, session)\n",
    "# ec2Regions = getAllRegionsForService('ec2', session)\n",
    "# ec2 = createResourceObj('ec2', 'ap-south-1')\n",
    "# ec22 = createResourceObj('ec2', 'sa-east-1')"
   ]
  },
  {
   "cell_type": "code",
   "execution_count": 72,
   "metadata": {
    "collapsed": false
   },
   "outputs": [
    {
     "data": {
      "text/plain": [
       "['cloudformation',\n",
       " 'cloudwatch',\n",
       " 'dynamodb',\n",
       " 'ec2',\n",
       " 'glacier',\n",
       " 'iam',\n",
       " 'opsworks',\n",
       " 's3',\n",
       " 'sns',\n",
       " 'sqs']"
      ]
     },
     "execution_count": 72,
     "metadata": {},
     "output_type": "execute_result"
    }
   ],
   "source": [
    "resourceObjCompatibleServices = \"cloudformation cloudwatch dynamodb ec2 glacier iam opsworks s3 sns sqs\".split()\n",
    "resourceObjCompatibleServices"
   ]
  },
  {
   "cell_type": "markdown",
   "metadata": {
    "collapsed": true
   },
   "source": [
    "## Changes:\n",
    "\n",
    "1. use Sets"
   ]
  },
  {
   "cell_type": "code",
   "execution_count": 140,
   "metadata": {
    "collapsed": true
   },
   "outputs": [],
   "source": [
    "beanstalk = createClient('elasticbeanstalk', 'ap-south-1')"
   ]
  },
  {
   "cell_type": "code",
   "execution_count": 146,
   "metadata": {
    "collapsed": true
   },
   "outputs": [],
   "source": [
    "a = beanstalk.describe_environments()"
   ]
  },
  {
   "cell_type": "code",
   "execution_count": 148,
   "metadata": {
    "collapsed": false
   },
   "outputs": [
    {
     "data": {
      "text/plain": [
       "{'Applications': [{'ApplicationName': 'My First Elastic Beanstalk Application',\n",
       "   'ConfigurationTemplates': [],\n",
       "   'DateCreated': datetime.datetime(2017, 12, 8, 17, 37, 35, 754000, tzinfo=tzutc()),\n",
       "   'DateUpdated': datetime.datetime(2017, 12, 8, 17, 37, 35, 754000, tzinfo=tzutc()),\n",
       "   'ResourceLifecycleConfig': {'VersionLifecycleConfig': {'MaxAgeRule': {'DeleteSourceFromS3': False,\n",
       "      'Enabled': False,\n",
       "      'MaxAgeInDays': 180},\n",
       "     'MaxCountRule': {'DeleteSourceFromS3': False,\n",
       "      'Enabled': False,\n",
       "      'MaxCount': 200}}},\n",
       "   'Versions': ['Sample Application']}],\n",
       " 'ResponseMetadata': {'HTTPHeaders': {'connection': 'keep-alive',\n",
       "   'content-length': '1219',\n",
       "   'content-type': 'text/xml',\n",
       "   'date': 'Fri, 08 Dec 2017 18:12:17 GMT',\n",
       "   'x-amzn-requestid': '53086ce1-dc43-11e7-80a7-35c715ace882'},\n",
       "  'HTTPStatusCode': 200,\n",
       "  'RequestId': '53086ce1-dc43-11e7-80a7-35c715ace882',\n",
       "  'RetryAttempts': 0}}"
      ]
     },
     "execution_count": 148,
     "metadata": {},
     "output_type": "execute_result"
    }
   ],
   "source": [
    "beanstalk.describe_applications()"
   ]
  },
  {
   "cell_type": "code",
   "execution_count": 149,
   "metadata": {
    "collapsed": false
   },
   "outputs": [
    {
     "data": {
      "text/plain": [
       "{'Environments': [{'AbortableOperationInProgress': False,\n",
       "   'ApplicationName': 'My First Elastic Beanstalk Application',\n",
       "   'CNAME': 'Default-Environment.fekn9qgusj.ap-south-1.elasticbeanstalk.com',\n",
       "   'DateCreated': datetime.datetime(2017, 12, 8, 17, 37, 37, 627000, tzinfo=tzutc()),\n",
       "   'DateUpdated': datetime.datetime(2017, 12, 8, 17, 40, 45, 205000, tzinfo=tzutc()),\n",
       "   'EndpointURL': 'awseb-e-5-AWSEBLoa-1EDQZLQFTHU6Y-1884972070.ap-south-1.elb.amazonaws.com',\n",
       "   'EnvironmentArn': 'arn:aws:elasticbeanstalk:ap-south-1:522550275729:environment/My First Elastic Beanstalk Application/Default-Environment',\n",
       "   'EnvironmentId': 'e-5xgfuspbav',\n",
       "   'EnvironmentLinks': [],\n",
       "   'EnvironmentName': 'Default-Environment',\n",
       "   'Health': 'Green',\n",
       "   'HealthStatus': 'Ok',\n",
       "   'PlatformArn': 'arn:aws:elasticbeanstalk:ap-south-1::platform/Node.js running on 64bit Amazon Linux/4.4.0',\n",
       "   'SolutionStackName': '64bit Amazon Linux 2017.09 v4.4.0 running Node.js',\n",
       "   'Status': 'Ready',\n",
       "   'Tier': {'Name': 'WebServer', 'Type': 'Standard', 'Version': ' '},\n",
       "   'VersionLabel': 'Sample Application'}],\n",
       " 'ResponseMetadata': {'HTTPHeaders': {'connection': 'keep-alive',\n",
       "   'content-length': '1721',\n",
       "   'content-type': 'text/xml',\n",
       "   'date': 'Fri, 08 Dec 2017 18:13:18 GMT',\n",
       "   'x-amzn-requestid': '77b7e7e8-dc43-11e7-9027-b75d169329a7'},\n",
       "  'HTTPStatusCode': 200,\n",
       "  'RequestId': '77b7e7e8-dc43-11e7-9027-b75d169329a7',\n",
       "  'RetryAttempts': 0}}"
      ]
     },
     "execution_count": 149,
     "metadata": {},
     "output_type": "execute_result"
    }
   ],
   "source": [
    "beanstalk.describe_environments()"
   ]
  },
  {
   "cell_type": "code",
   "execution_count": 150,
   "metadata": {
    "collapsed": true
   },
   "outputs": [],
   "source": [
    "envs = beanstalk.describe_environments()['Environments']"
   ]
  },
  {
   "cell_type": "code",
   "execution_count": 151,
   "metadata": {
    "collapsed": false
   },
   "outputs": [
    {
     "data": {
      "text/plain": [
       "[{'AbortableOperationInProgress': False,\n",
       "  'ApplicationName': 'My First Elastic Beanstalk Application',\n",
       "  'CNAME': 'Default-Environment.fekn9qgusj.ap-south-1.elasticbeanstalk.com',\n",
       "  'DateCreated': datetime.datetime(2017, 12, 8, 17, 37, 37, 627000, tzinfo=tzutc()),\n",
       "  'DateUpdated': datetime.datetime(2017, 12, 8, 17, 40, 45, 205000, tzinfo=tzutc()),\n",
       "  'EndpointURL': 'awseb-e-5-AWSEBLoa-1EDQZLQFTHU6Y-1884972070.ap-south-1.elb.amazonaws.com',\n",
       "  'EnvironmentArn': 'arn:aws:elasticbeanstalk:ap-south-1:522550275729:environment/My First Elastic Beanstalk Application/Default-Environment',\n",
       "  'EnvironmentId': 'e-5xgfuspbav',\n",
       "  'EnvironmentLinks': [],\n",
       "  'EnvironmentName': 'Default-Environment',\n",
       "  'Health': 'Green',\n",
       "  'HealthStatus': 'Ok',\n",
       "  'PlatformArn': 'arn:aws:elasticbeanstalk:ap-south-1::platform/Node.js running on 64bit Amazon Linux/4.4.0',\n",
       "  'SolutionStackName': '64bit Amazon Linux 2017.09 v4.4.0 running Node.js',\n",
       "  'Status': 'Ready',\n",
       "  'Tier': {'Name': 'WebServer', 'Type': 'Standard', 'Version': ' '},\n",
       "  'VersionLabel': 'Sample Application'}]"
      ]
     },
     "execution_count": 151,
     "metadata": {},
     "output_type": "execute_result"
    }
   ],
   "source": [
    "envs\n",
    "beanstalk.dele"
   ]
  },
  {
   "cell_type": "code",
   "execution_count": 154,
   "metadata": {
    "collapsed": false
   },
   "outputs": [],
   "source": [
    "envNames = []\n",
    "for env in envs:\n",
    "    envNames.append(env['EnvironmentId'])"
   ]
  },
  {
   "cell_type": "code",
   "execution_count": 155,
   "metadata": {
    "collapsed": false
   },
   "outputs": [
    {
     "data": {
      "text/plain": [
       "['e-5xgfuspbav']"
      ]
     },
     "execution_count": 155,
     "metadata": {},
     "output_type": "execute_result"
    }
   ],
   "source": [
    "envNames"
   ]
  },
  {
   "cell_type": "code",
   "execution_count": 156,
   "metadata": {
    "collapsed": true
   },
   "outputs": [],
   "source": [
    "res = ''\n",
    "for envName in envNames:\n",
    "    res = beanstalk.terminate_environment(EnvironmentId=envName, ForceTerminate=True)"
   ]
  },
  {
   "cell_type": "code",
   "execution_count": 163,
   "metadata": {
    "collapsed": false
   },
   "outputs": [
    {
     "name": "stdout",
     "output_type": "stream",
     "text": [
      "Done\n"
     ]
    }
   ],
   "source": [
    "if(res['Status'] == 'Terminating' or res['Status'] == 'Terminated'):\n",
    "    print('Done')"
   ]
  },
  {
   "cell_type": "code",
   "execution_count": null,
   "metadata": {
    "collapsed": true
   },
   "outputs": [],
   "source": []
  }
 ],
 "metadata": {
  "kernelspec": {
   "display_name": "Python [default]",
   "language": "python",
   "name": "python3"
  },
  "language_info": {
   "codemirror_mode": {
    "name": "ipython",
    "version": 3
   },
   "file_extension": ".py",
   "mimetype": "text/x-python",
   "name": "python",
   "nbconvert_exporter": "python",
   "pygments_lexer": "ipython3",
   "version": "3.6.0"
  }
 },
 "nbformat": 4,
 "nbformat_minor": 2
}
