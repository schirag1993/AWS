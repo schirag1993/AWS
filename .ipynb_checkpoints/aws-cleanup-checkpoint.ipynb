{
 "cells": [
  {
   "cell_type": "code",
   "execution_count": 1,
   "metadata": {},
   "outputs": [],
   "source": [
    "import boto3, json\n",
    "from pprint import pprint"
   ]
  },
  {
   "cell_type": "markdown",
   "metadata": {},
   "source": [
    "## Credentials"
   ]
  },
  {
   "cell_type": "code",
   "execution_count": 2,
   "metadata": {},
   "outputs": [],
   "source": [
    "def getAWSCreds():\n",
    "    credentials = json.load(open('../esrcd.json'))\n",
    "    awsCreds = credentials['aws']\n",
    "    return(awsCreds)"
   ]
  },
  {
   "cell_type": "markdown",
   "metadata": {},
   "source": [
    "## Sessions and Resources"
   ]
  },
  {
   "cell_type": "code",
   "execution_count": 3,
   "metadata": {},
   "outputs": [],
   "source": [
    "def createSession():\n",
    "    session = boto3.session.Session(aws_access_key_id=getAWSCreds()['accessKey'], \n",
    "                                    aws_secret_access_key=getAWSCreds()['secretKey'])\n",
    "    return(session)\n",
    "\n",
    "def createResourceObj(resourceName, regionName):\n",
    "    resource = boto3.resource(resourceName, region_name=regionName, \n",
    "                              aws_access_key_id=getAWSCreds()['accessKey'], \n",
    "                              aws_secret_access_key=getAWSCreds()['secretKey'])\n",
    "    return(resource)\n",
    "\n",
    "def createClient(resourceName,regionName):\n",
    "    client = boto3.client(resourceName, region_name=regionName,\n",
    "                          aws_access_key_id=getAWSCreds()['accessKey'], \n",
    "                          aws_secret_access_key=getAWSCreds()['secretKey'])\n",
    "    return(client)"
   ]
  },
  {
   "cell_type": "markdown",
   "metadata": {},
   "source": [
    "## Regions and Services"
   ]
  },
  {
   "cell_type": "code",
   "execution_count": 4,
   "metadata": {},
   "outputs": [],
   "source": [
    "def getAllRegions(session):\n",
    "    return(session.get_available_regions('ec2', partition_name='aws'))\n",
    "\n",
    "def getAllServices(session):\n",
    "    return(session.get_available_services())"
   ]
  },
  {
   "cell_type": "code",
   "execution_count": 5,
   "metadata": {},
   "outputs": [],
   "source": [
    "def getAllServicesAndRegions(session):\n",
    "    allServices = getAllServices(session)\n",
    "    serviceDict = {}\n",
    "    for service in allServices:\n",
    "        availableRegions = session.get_available_regions(service, partition_name='aws')\n",
    "        serviceDict[service] = availableRegions\n",
    "    return(serviceDict)"
   ]
  },
  {
   "cell_type": "code",
   "execution_count": 6,
   "metadata": {},
   "outputs": [],
   "source": [
    "def getIncludedRegions(excludedRegions, session):\n",
    "    allRegions = getAllRegions(session)\n",
    "    return([region for region in allRegions if region not in excludedRegions])\n",
    "\n",
    "def getIncludedServices(excludedServices, session):\n",
    "    allServices = getAllServices(session)\n",
    "    return([service for service in allServices if service not in excludedServices])\n",
    "\n",
    "def getShortlistedRegions(includedRegions, validRegions):\n",
    "    return([region for region in includedRegions if region in validRegions])\n",
    "\n",
    "def getAllRegionsForService(serviceName, session):\n",
    "    return(session.get_available_regions(serviceName, partition_name='aws'))"
   ]
  },
  {
   "cell_type": "markdown",
   "metadata": {},
   "source": [
    "# EC2"
   ]
  },
  {
   "cell_type": "markdown",
   "metadata": {},
   "source": [
    "## Elastic IP"
   ]
  },
  {
   "cell_type": "code",
   "execution_count": null,
   "metadata": {},
   "outputs": [],
   "source": [
    "def detachElasticIPs(includedRegions):\n",
    "    for region in includedRegions:\n",
    "        ec2 = boto3.client('ec2', region)\n",
    "        "
   ]
  },
  {
   "cell_type": "code",
   "execution_count": 50,
   "metadata": {},
   "outputs": [],
   "source": [
    "ec2 = createClient('ec2', 'ap-south-1')"
   ]
  },
  {
   "cell_type": "code",
   "execution_count": 66,
   "metadata": {},
   "outputs": [],
   "source": [
    "res = ec2.describe_addresses()"
   ]
  },
  {
   "cell_type": "code",
   "execution_count": 69,
   "metadata": {},
   "outputs": [],
   "source": [
    "elasticIps = []\n",
    "for address in res['Addresses']:\n",
    "    elasticIps.append({\n",
    "        \"AssociationId\" : address['AssociationId'],\n",
    "        \"AllocationId\"  : address['AllocationId']\n",
    "    })"
   ]
  },
  {
   "cell_type": "code",
   "execution_count": 70,
   "metadata": {},
   "outputs": [
    {
     "data": {
      "text/plain": [
       "[{'AllocationId': 'eipalloc-58337e76', 'AssociationId': 'eipassoc-f107ecd0'}]"
      ]
     },
     "execution_count": 70,
     "metadata": {},
     "output_type": "execute_result"
    }
   ],
   "source": [
    "elasticIps"
   ]
  },
  {
   "cell_type": "code",
   "execution_count": 71,
   "metadata": {},
   "outputs": [
    {
     "name": "stdout",
     "output_type": "stream",
     "text": [
      "{'ResponseMetadata': {'HTTPHeaders': {'content-type': 'text/xml;charset=UTF-8',\n",
      "                                      'date': 'Fri, 08 Dec 2017 10:26:10 GMT',\n",
      "                                      'server': 'AmazonEC2',\n",
      "                                      'transfer-encoding': 'chunked',\n",
      "                                      'vary': 'Accept-Encoding'},\n",
      "                      'HTTPStatusCode': 200,\n",
      "                      'RequestId': '7ddadf8d-bcce-446c-b530-2b8c361ae26c',\n",
      "                      'RetryAttempts': 0}}\n",
      "{'ResponseMetadata': {'HTTPHeaders': {'content-type': 'text/xml;charset=UTF-8',\n",
      "                                      'date': 'Fri, 08 Dec 2017 10:26:10 GMT',\n",
      "                                      'server': 'AmazonEC2',\n",
      "                                      'transfer-encoding': 'chunked',\n",
      "                                      'vary': 'Accept-Encoding'},\n",
      "                      'HTTPStatusCode': 200,\n",
      "                      'RequestId': '7ddadf8d-bcce-446c-b530-2b8c361ae26c',\n",
      "                      'RetryAttempts': 0}}\n",
      "{'ResponseMetadata': {'HTTPHeaders': {'content-type': 'text/xml;charset=UTF-8',\n",
      "                                      'date': 'Fri, 08 Dec 2017 10:26:10 GMT',\n",
      "                                      'server': 'AmazonEC2',\n",
      "                                      'transfer-encoding': 'chunked',\n",
      "                                      'vary': 'Accept-Encoding'},\n",
      "                      'HTTPStatusCode': 200,\n",
      "                      'RequestId': '7ba1d3c4-d770-48f4-820e-a725fff24e4f',\n",
      "                      'RetryAttempts': 0}}\n"
     ]
    }
   ],
   "source": [
    "for ip in elasticIps:\n",
    "    disassociateRes = ec2.disassociate_address(AssociationId=ip['AssociationId'])\n",
    "    pprint(disassociateRes)\n",
    "    if(disassociateRes['ResponseMetadata']['HTTPStatusCode'] != 200):\n",
    "        print(\"Disassociation failed!\")\n",
    "        pprint(disassociateRes)\n",
    "    else:\n",
    "        print(\"Disassociation response:\")\n",
    "        pprint(disassociateRes)\n",
    "    releaseResponse = ec2.release_address(AllocationId=ip['AllocationId'])\n",
    "    if(releaseResponse['ResponseMetadata']['HTTPStatusCode'] != 200):\n",
    "        print(\"Release failed!\")\n",
    "        pprint(releaseResponse)\n",
    "    else:\n",
    "        print(\"Release response:\")\n",
    "        pprint(releaseResponse)"
   ]
  },
  {
   "cell_type": "code",
   "execution_count": 65,
   "metadata": {},
   "outputs": [
    {
     "data": {
      "text/plain": [
       "200"
      ]
     },
     "execution_count": 65,
     "metadata": {},
     "output_type": "execute_result"
    }
   ],
   "source": [
    "if(response['ResponseMetadata']['HTTPStatusCode'] != 200):\n",
    "    print(\"Something went wrong\")\n",
    "    #add twilio code here"
   ]
  },
  {
   "cell_type": "markdown",
   "metadata": {},
   "source": [
    "## EC2 Instances"
   ]
  },
  {
   "cell_type": "code",
   "execution_count": 7,
   "metadata": {},
   "outputs": [],
   "source": [
    "def deleteEC2Instances(includedRegions):\n",
    "    instanceIds = listEC2InstanceIds(includedRegions)\n",
    "    for region in instanceIds.keys():\n",
    "        ec2 = createResourceObj('ec2', region)\n",
    "        for instanceId in instanceIds[region]:\n",
    "            instance = ec2.Instance(id=instanceId).terminate(DryRun=False)\n",
    "            print(\"Deleted!\")\n",
    "    print(\"EC2: Instances: All done!\")\n",
    "\n",
    "def listEC2InstanceIds(includedRegions):\n",
    "    instanceIds = {}\n",
    "    for region in includedRegions:\n",
    "        ec2 = createResourceObj('ec2', region)\n",
    "        instances = ec2.instances.filter(\n",
    "        Filters=[{'Name': 'instance-state-name', 'Values': ['running','stopped']}])\n",
    "        for instance in instances:\n",
    "            if(region not in instanceIds.keys()):\n",
    "                instanceIds.setdefault(region,[]).append(instance.id)\n",
    "            else:\n",
    "                instanceIds[region].append(instance.id)\n",
    "    pprint(instanceIds)\n",
    "    return(instanceIds)"
   ]
  },
  {
   "cell_type": "markdown",
   "metadata": {},
   "source": [
    "## SNS"
   ]
  },
  {
   "cell_type": "code",
   "execution_count": 48,
   "metadata": {},
   "outputs": [],
   "source": [
    "def getExcludedTopics():\n",
    "    topicList = ''\n",
    "    return(topicList.split())\n",
    "\n",
    "def getTopics(includedRegions, session, excludedTopics):\n",
    "    snsRegions = getShortlistedRegions(includedRegions, getAllRegionsForService('sns', session))\n",
    "    topics = []\n",
    "    for region in snsRegions:\n",
    "            print(\"Region: {}\".format(region))\n",
    "            sns = createResourceObj('sns', region)\n",
    "            for topic in sns.topics.all():\n",
    "                if(topic.arn not in excludedTopics):\n",
    "                    topics.append(topic)\n",
    "    return(topics)"
   ]
  },
  {
   "cell_type": "code",
   "execution_count": 49,
   "metadata": {},
   "outputs": [],
   "source": [
    "def deleteTopics(includedRegions, session):\n",
    "    topics = getTopics(includedRegions, session, getExcludedTopics())\n",
    "    for topic in topics:\n",
    "        response = topic.delete()\n",
    "        if(response['ResponseMetadata']['HTTPStatusCode'] != 200):\n",
    "            print(\"Something went wrong\")\n",
    "            pprint(response)\n",
    "        else:\n",
    "            print(\"Deleted:\")\n",
    "            print(\"++++++++++\")\n",
    "            pprint(response)\n",
    "            print(\"++++++++++\")\n",
    "    print(\"SNS: Topics: All done!\")"
   ]
  },
  {
   "cell_type": "markdown",
   "metadata": {},
   "source": [
    "## S3 Buckets"
   ]
  },
  {
   "cell_type": "code",
   "execution_count": 121,
   "metadata": {},
   "outputs": [],
   "source": [
    "def getExcludedBucketNames():\n",
    "    return('chiragbilling chiragwebsite'.split())\n",
    "\n",
    "def deleteS3Buckets():\n",
    "    s3 = createResourceObj('s3', 'ap-south-1')\n",
    "    validBuckets = []\n",
    "    for bucket in s3.buckets.all():\n",
    "        print(bucket.name)\n",
    "        if(bucket.name not in getExcludedBucketNames()):\n",
    "            print(\"Added bucket\")\n",
    "            validBuckets.append(bucket)\n",
    "    Delete = {'Objects':[]}\n",
    "    for bucket in validBuckets:\n",
    "        for page in bucket.objects.pages():\n",
    "            for obj in page:\n",
    "                print(obj.key)\n",
    "                Delete['Objects'].append({\n",
    "                    'Key' : obj.key\n",
    "                })\n",
    "            bucket.delete_objects(Delete=Delete)\n",
    "            print(\"Page complete. Deleted objects\")\n",
    "        print(\"All pages complete. Deleting bucket now\")\n",
    "        bucket.delete()\n",
    "        print(\"Bucket deleted!\")\n",
    "    print(\"S3: All done!\")"
   ]
  },
  {
   "cell_type": "markdown",
   "metadata": {},
   "source": [
    "## DynamoDB"
   ]
  },
  {
   "cell_type": "code",
   "execution_count": 152,
   "metadata": {
    "collapsed": true
   },
   "outputs": [],
   "source": [
    "def deleteDynamoTables(includedRegions, session):\n",
    "    validRegions = getShortlistedRegions(includedRegions, getAllRegionsForService('dynamodb', session))\n",
    "    for region in validRegions:\n",
    "        print(\"Region: {}\".format(region))\n",
    "        dynamo = createResourceObj('dynamodb', region)\n",
    "        tableList = []\n",
    "        for table in dynamo.tables.all():\n",
    "            tableList.append(table)\n",
    "        for table in tableList:\n",
    "            response = table.delete()\n",
    "            if(response['ResponseMetadata']['HTTPStatusCode']!=200):\n",
    "                print(\"Something went wrong!\")\n",
    "                #Add twilio code here\n",
    "            else:\n",
    "                print(\"Success!\")\n",
    "                pprint(response)\n",
    "    print(\"DynamoDB: All done!\")"
   ]
  },
  {
   "cell_type": "markdown",
   "metadata": {},
   "source": [
    "## SQS"
   ]
  },
  {
   "cell_type": "code",
   "execution_count": 170,
   "metadata": {},
   "outputs": [],
   "source": [
    "def deleteSQS(includedRegions):\n",
    "    validRegions = getShortlistedRegions(includedRegions, getAllRegionsForService('sqs', session))\n",
    "    qlist = []\n",
    "    for region in validRegions:\n",
    "        sqs = createResourceObj('sqs', region)\n",
    "        for q in sqs.queues.all():\n",
    "            response = q.delete()\n",
    "            if(response['ResponseMetadata']['HTTPStatusCode']!=200):\n",
    "                print(\"Something went wrong!\")\n",
    "                pprint(response)\n",
    "                #Add twilio code here\n",
    "            else:\n",
    "                print(\"Success!\")\n",
    "                pprint(response)\n",
    "    print(\"SQS: All done!\")"
   ]
  },
  {
   "cell_type": "markdown",
   "metadata": {},
   "source": [
    "# Not Tested:"
   ]
  },
  {
   "cell_type": "code",
   "execution_count": 23,
   "metadata": {
    "collapsed": true
   },
   "outputs": [],
   "source": [
    "def deleteVolumes(includedRegions, ec2Client):\n",
    "    response = ec2Client.describe_volumes(Filters=[{'Name' : 'attachment.status', 'Values' : ['detached']}])\n",
    "    volumeIds = getVolumeIds(response)\n",
    "    for volumeId in volumeIds:\n",
    "        ec2Client.delete_volume(VolumeId=volumeId,DryRun=False)"
   ]
  },
  {
   "cell_type": "markdown",
   "metadata": {},
   "source": [
    "************************************************************************************************************"
   ]
  },
  {
   "cell_type": "markdown",
   "metadata": {},
   "source": [
    "## Testing Section"
   ]
  },
  {
   "cell_type": "code",
   "execution_count": 10,
   "metadata": {},
   "outputs": [],
   "source": [
    "excludedRegions = ['us-east-1']\n",
    "excludedServices = ['cloudwatch', 'budgets']"
   ]
  },
  {
   "cell_type": "code",
   "execution_count": 11,
   "metadata": {},
   "outputs": [],
   "source": [
    "session = createSession()\n",
    "# allRegions = getAllRegions(session)\n",
    "# allServicesRegions = getAllServicesAndRegions(session)\n",
    "# allServices = getAllServices(session)\n",
    "includedRegions = getIncludedRegions(excludedRegions, session)\n",
    "includedServices = getIncludedServices(excludedServices, session)\n",
    "# ec2Regions = getAllRegionsForService('ec2', session)\n",
    "# ec2 = createResourceObj('ec2', 'ap-south-1')\n",
    "# ec22 = createResourceObj('ec2', 'sa-east-1')"
   ]
  },
  {
   "cell_type": "code",
   "execution_count": 72,
   "metadata": {},
   "outputs": [
    {
     "data": {
      "text/plain": [
       "['cloudformation',\n",
       " 'cloudwatch',\n",
       " 'dynamodb',\n",
       " 'ec2',\n",
       " 'glacier',\n",
       " 'iam',\n",
       " 'opsworks',\n",
       " 's3',\n",
       " 'sns',\n",
       " 'sqs']"
      ]
     },
     "execution_count": 72,
     "metadata": {},
     "output_type": "execute_result"
    }
   ],
   "source": [
    "resourceObjCompatibleServices = \"cloudformation cloudwatch dynamodb ec2 glacier iam opsworks s3 sns sqs\".split()\n",
    "resourceObjCompatibleServices"
   ]
  },
  {
   "cell_type": "code",
   "execution_count": 186,
   "metadata": {
    "collapsed": true
   },
   "outputs": [],
   "source": [
    "opsWorks = createResourceObj('opsworks', 'ap-south-1')"
   ]
  },
  {
   "cell_type": "code",
   "execution_count": 187,
   "metadata": {},
   "outputs": [],
   "source": [
    "stacks = []\n",
    "for stack in opsWorks.stacks.all():\n",
    "    stacks.append(stack)"
   ]
  },
  {
   "cell_type": "code",
   "execution_count": 188,
   "metadata": {},
   "outputs": [],
   "source": [
    "stack = stacks[0]"
   ]
  },
  {
   "cell_type": "code",
   "execution_count": 194,
   "metadata": {},
   "outputs": [
    {
     "data": {
      "text/plain": [
       "opsworks.StackSummary(stack_id='d3755604-b472-465a-8420-42178319b933')"
      ]
     },
     "execution_count": 194,
     "metadata": {},
     "output_type": "execute_result"
    }
   ],
   "source": [
    "stack.Summary()"
   ]
  },
  {
   "cell_type": "code",
   "execution_count": 196,
   "metadata": {},
   "outputs": [
    {
     "name": "stdout",
     "output_type": "stream",
     "text": [
      "opsworks.Layer(id='a4534a83-5672-47bd-83ec-bc62c224a4ff')\n"
     ]
    }
   ],
   "source": [
    "for layer in stack.layers.all():\n",
    "    print(layer)"
   ]
  },
  {
   "cell_type": "code",
   "execution_count": null,
   "metadata": {
    "collapsed": true
   },
   "outputs": [],
   "source": []
  }
 ],
 "metadata": {
  "kernelspec": {
   "display_name": "Python 3",
   "language": "python",
   "name": "python3"
  },
  "language_info": {
   "codemirror_mode": {
    "name": "ipython",
    "version": 3
   },
   "file_extension": ".py",
   "mimetype": "text/x-python",
   "name": "python",
   "nbconvert_exporter": "python",
   "pygments_lexer": "ipython3",
   "version": "3.5.4"
  }
 },
 "nbformat": 4,
 "nbformat_minor": 2
}
