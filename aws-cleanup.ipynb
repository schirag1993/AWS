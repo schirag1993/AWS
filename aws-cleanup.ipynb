{
 "cells": [
  {
   "cell_type": "markdown",
   "metadata": {},
   "source": [
    "# AWS Clean Up Script\n",
    "\n",
    "This script will clean up all the resources on an individual/organization's AWS account. This script is still in development and a lot of work is still pending. Although the notebook is self explanatory, a little study on core AWS SDK features will be of use.\n",
    "\n",
    "### Things to Improve on:\n",
    "\n",
    "1. Use sets wherever possible to reduce to the number of filter operations\n",
    "2. Exception handling still needs to be done\n",
    "3. Alert generation through SNS, MailGun and Twilio needs to be implemented\n",
    "4. Use shortlist function to get regions as opposed to includedRegions"
   ]
  },
  {
   "cell_type": "markdown",
   "metadata": {},
   "source": [
    "## Libraries"
   ]
  },
  {
   "cell_type": "code",
   "execution_count": 1,
   "metadata": {
    "collapsed": true
   },
   "outputs": [],
   "source": [
    "import boto3, json\n",
    "from pprint import pprint"
   ]
  },
  {
   "cell_type": "markdown",
   "metadata": {},
   "source": [
    "## Credentials"
   ]
  },
  {
   "cell_type": "code",
   "execution_count": 2,
   "metadata": {
    "collapsed": true
   },
   "outputs": [],
   "source": [
    "def getAWSCreds():\n",
    "    credentials = json.load(open('../esrcd.json'))\n",
    "    awsCreds = credentials['aws']\n",
    "    return(awsCreds)"
   ]
  },
  {
   "cell_type": "markdown",
   "metadata": {},
   "source": [
    "## Sessions and Resources"
   ]
  },
  {
   "cell_type": "code",
   "execution_count": 3,
   "metadata": {
    "collapsed": true
   },
   "outputs": [],
   "source": [
    "def createSession():\n",
    "    session = boto3.session.Session(aws_access_key_id=getAWSCreds()['accessKey'], \n",
    "                                    aws_secret_access_key=getAWSCreds()['secretKey'])\n",
    "    return(session)\n",
    "\n",
    "def createResourceObj(resourceName, regionName):\n",
    "    resource = boto3.resource(resourceName, region_name=regionName, \n",
    "                              aws_access_key_id=getAWSCreds()['accessKey'], \n",
    "                              aws_secret_access_key=getAWSCreds()['secretKey'])\n",
    "    return(resource)\n",
    "\n",
    "def createClient(resourceName,regionName):\n",
    "    client = boto3.client(resourceName, region_name=regionName,\n",
    "                          aws_access_key_id=getAWSCreds()['accessKey'], \n",
    "                          aws_secret_access_key=getAWSCreds()['secretKey'])\n",
    "    return(client)"
   ]
  },
  {
   "cell_type": "markdown",
   "metadata": {},
   "source": [
    "## Regions and Services"
   ]
  },
  {
   "cell_type": "code",
   "execution_count": 4,
   "metadata": {
    "collapsed": true
   },
   "outputs": [],
   "source": [
    "def getAllRegions(session):\n",
    "    return(session.get_available_regions('ec2', partition_name='aws'))\n",
    "\n",
    "def getAllServices(session):\n",
    "    return(session.get_available_services())"
   ]
  },
  {
   "cell_type": "code",
   "execution_count": 5,
   "metadata": {
    "collapsed": true
   },
   "outputs": [],
   "source": [
    "def getAllServicesAndRegions(session):\n",
    "    allServices = getAllServices(session)\n",
    "    serviceDict = {}\n",
    "    for service in allServices:\n",
    "        availableRegions = session.get_available_regions(service, partition_name='aws')\n",
    "        serviceDict[service] = availableRegions\n",
    "    return(serviceDict)"
   ]
  },
  {
   "cell_type": "code",
   "execution_count": 6,
   "metadata": {
    "collapsed": true
   },
   "outputs": [],
   "source": [
    "def getIncludedRegions(excludedRegions, session):\n",
    "    allRegions = getAllRegions(session)\n",
    "    return([region for region in allRegions if region not in excludedRegions])\n",
    "\n",
    "def getIncludedServices(excludedServices, session):\n",
    "    allServices = getAllServices(session)\n",
    "    return([service for service in allServices if service not in excludedServices])\n",
    "\n",
    "def getShortlistedRegions(includedRegions, validRegions):\n",
    "    return([region for region in includedRegions if region in validRegions])\n",
    "\n",
    "def getAllRegionsForService(serviceName, session):\n",
    "    return(session.get_available_regions(serviceName, partition_name='aws'))"
   ]
  },
  {
   "cell_type": "markdown",
   "metadata": {},
   "source": [
    "# Autoscaling"
   ]
  },
  {
   "cell_type": "markdown",
   "metadata": {},
   "source": [
    "### AutoScaling Groups"
   ]
  },
  {
   "cell_type": "code",
   "execution_count": 7,
   "metadata": {
    "collapsed": true
   },
   "outputs": [],
   "source": [
    "def getAutoscalingGroupNames(autoScaling):\n",
    "    asGroups = autoScaling.describe_auto_scaling_groups()['AutoScalingGroups']\n",
    "    asGroupNames = []\n",
    "    for group in asGroups:\n",
    "        groupName = group['AutoScalingGroupName']\n",
    "        asGroupNames.append(groupName)\n",
    "    return(asGroupNames)"
   ]
  },
  {
   "cell_type": "code",
   "execution_count": 8,
   "metadata": {
    "collapsed": false
   },
   "outputs": [],
   "source": [
    "def deleteAutoscalingGroups(includedRegions):\n",
    "    for region in includedRegions:\n",
    "        autoScaling = createClient('autoscaling', region)\n",
    "        asGroupNames = getAutoscalingGroupNames(autoScaling)\n",
    "        for groupName in asGroupNames:\n",
    "            try:\n",
    "                res = autoScaling.delete_auto_scaling_group(AutoScalingGroupName=groupName,\n",
    "                                                            ForceDelete=True)\n",
    "                if(res['ResponseMetadata']['HTTPStatusCode'] != 200):\n",
    "                    print(\"Something went wrong!\")\n",
    "                    # Add twilio section here\n",
    "                    pprint(res)\n",
    "            except Exception as e:\n",
    "                exp = e\n",
    "                print(e.response['Error']['Code'])\n",
    "                twilioMsg = 'GroupName: {0}; Operation: {1}; Code: {2}; Cause: {3}'.format(groupName,\n",
    "                                                                                           e.operation_name,\n",
    "                                                                                           e.response['Error']['Code'],\n",
    "                                                                                           e.response['Error']['Message'])\n",
    "                print(twilioMsg)\n",
    "                return(False)\n",
    "                # Add twilio section here\n",
    "    print(\"Autoscaling: All done!\")\n",
    "    return(True)"
   ]
  },
  {
   "cell_type": "markdown",
   "metadata": {},
   "source": [
    "### Launch Configurations"
   ]
  },
  {
   "cell_type": "code",
   "execution_count": 9,
   "metadata": {
    "collapsed": true
   },
   "outputs": [],
   "source": [
    "def listLaunchConfigurations(autoScale):\n",
    "    return(autoScale.describe_launch_configurations()['LaunchConfigurations'])"
   ]
  },
  {
   "cell_type": "code",
   "execution_count": 10,
   "metadata": {
    "collapsed": true
   },
   "outputs": [],
   "source": [
    "def deleteLaunchConfigurations(includedRegions):\n",
    "    for region in includedRegions:\n",
    "        autoScale = createClient('autoscaling', region)\n",
    "        configList = listLaunchConfigurations(autoScale)\n",
    "        for config in configList:\n",
    "            launchConfigName = config['LaunchConfigurationName']\n",
    "            print(\"Launch config name: \" + launchConfigName)\n",
    "            try:\n",
    "                res = ec2.delete_launch_configuration(LaunchConfigurationName=launchConfigName)\n",
    "                pprint(res)\n",
    "            except Exception as e:\n",
    "                pprint(e.response)\n",
    "                twilioMsg = 'Launch Config Name: {3}; Error Code: {0}; Operation Name: {1}; Date: {2}'.format(e.response['Error']['Code'],\n",
    "                                                                                    e.operation_name,\n",
    "                                                                                    e.response['ResponseMetadata']['HTTPHeaders']['date'],\n",
    "                                                                                                             launchConfigName)\n",
    "                print(twilioMsg)\n",
    "                #Add twilio code here\n",
    "        print(\"Launch Configurations: All done!\")"
   ]
  },
  {
   "cell_type": "markdown",
   "metadata": {},
   "source": [
    "## EC2"
   ]
  },
  {
   "cell_type": "markdown",
   "metadata": {},
   "source": [
    "### Volumes"
   ]
  },
  {
   "cell_type": "code",
   "execution_count": 11,
   "metadata": {
    "collapsed": true
   },
   "outputs": [],
   "source": [
    "def getVolumeIds(ec2):\n",
    "    volumesIds = []\n",
    "    for vol in ec2.volumes.filter(Filters=[\n",
    "        {\n",
    "            'Name': 'attachment.status',\n",
    "            'Values': [\n",
    "                'detached'\n",
    "            ]\n",
    "        },\n",
    "    ]):\n",
    "        volumesIds.append(vol.id)\n",
    "    return(volumesIds)"
   ]
  },
  {
   "cell_type": "code",
   "execution_count": 12,
   "metadata": {
    "collapsed": true
   },
   "outputs": [],
   "source": [
    "def deleteVolumes(includedRegions):\n",
    "    for region in includedRegions:\n",
    "        ec2 = createResourceObj('ec2',region)\n",
    "        volumeIds = getVolumeIds(ec2)\n",
    "        for volumeId in volumeIds:\n",
    "            volume = ec2.Volume(volumeId).delete(DryRun=False)\n",
    "    print(\"Deleted all detached volumes!\")"
   ]
  },
  {
   "cell_type": "markdown",
   "metadata": {},
   "source": [
    "### Elastic IP"
   ]
  },
  {
   "cell_type": "code",
   "execution_count": 13,
   "metadata": {
    "collapsed": true
   },
   "outputs": [],
   "source": [
    "def getIds(ec2):\n",
    "    elasticIps = []\n",
    "    for address in ec2.describe_addresses()['Addresses']:\n",
    "        elasticIps.append({\n",
    "            \"AssociationId\" : address['AssociationId'],\n",
    "            \"AllocationId\"  : address['AllocationId']\n",
    "        })\n",
    "    return(elasticIps)"
   ]
  },
  {
   "cell_type": "code",
   "execution_count": 14,
   "metadata": {
    "collapsed": true
   },
   "outputs": [],
   "source": [
    "def disassociateIPs(ec2, elasticIps):\n",
    "    for ip in elasticIps:\n",
    "        disassociateRes = ec2.disassociate_address(AssociationId=ip['AssociationId'])\n",
    "        if(disassociateRes['ResponseMetadata']['HTTPStatusCode'] != 200):\n",
    "            print(\"Disassociation failed!\")\n",
    "            pprint(disassociateRes)\n",
    "        else:\n",
    "            print(\"Disassociation response:\")\n",
    "            pprint(disassociateRes)\n",
    "    print(\"Disassociate IPs: All done!\")    "
   ]
  },
  {
   "cell_type": "code",
   "execution_count": 15,
   "metadata": {
    "collapsed": true
   },
   "outputs": [],
   "source": [
    "def releaseIPs(ec2, elasticIps):\n",
    "    for ip in elasticIps:\n",
    "        releaseResponse = ec2.release_address(AllocationId=ip['AllocationId'])\n",
    "        if(releaseResponse['ResponseMetadata']['HTTPStatusCode'] != 200):\n",
    "            print(\"Release failed!\")\n",
    "            pprint(releaseResponse)\n",
    "        else:\n",
    "            print(\"Release response:\")\n",
    "            pprint(releaseResponse)\n",
    "    print(\"Release IPs: All done!\")"
   ]
  },
  {
   "cell_type": "code",
   "execution_count": 16,
   "metadata": {
    "collapsed": true
   },
   "outputs": [],
   "source": [
    "def deleteElasticIPs(includedRegions):\n",
    "    print(\"Deleting IPs\")\n",
    "    elasticIps = []\n",
    "    for region in includedRegions:\n",
    "        print(\"Region: {}\".format(region))\n",
    "        ec2 = createClient('ec2', region)\n",
    "        elasticIps = getIds(ec2)\n",
    "        disassociateIPs(ec2, elasticIps)\n",
    "        releaseIPs(ec2, elasticIps)\n",
    "    print(\"Elastic IPs: All done!\")"
   ]
  },
  {
   "cell_type": "markdown",
   "metadata": {},
   "source": [
    "### EC2 Instances"
   ]
  },
  {
   "cell_type": "code",
   "execution_count": 17,
   "metadata": {
    "collapsed": true
   },
   "outputs": [],
   "source": [
    "def deleteEC2Instances(includedRegions):\n",
    "    instanceIds = listEC2InstanceIds(includedRegions)\n",
    "    for region in instanceIds.keys():\n",
    "        ec2 = createResourceObj('ec2', region)\n",
    "        for instanceId in instanceIds[region]:\n",
    "            instance = ec2.Instance(id=instanceId).terminate(DryRun=False)\n",
    "            print(\"Deleted!\")\n",
    "    print(\"EC2: Instances: All done!\")\n",
    "\n",
    "def listEC2InstanceIds(includedRegions):\n",
    "    instanceIds = {}\n",
    "    for region in includedRegions:\n",
    "        ec2 = createResourceObj('ec2', region)\n",
    "        instances = ec2.instances.filter(\n",
    "        Filters=[{'Name': 'instance-state-name', 'Values': ['running','stopped']}])\n",
    "        for instance in instances:\n",
    "            if(region not in instanceIds.keys()):\n",
    "                instanceIds.setdefault(region,[]).append(instance.id)\n",
    "            else:\n",
    "                instanceIds[region].append(instance.id)\n",
    "    pprint(instanceIds)\n",
    "    return(instanceIds)"
   ]
  },
  {
   "cell_type": "markdown",
   "metadata": {},
   "source": [
    "## SNS"
   ]
  },
  {
   "cell_type": "code",
   "execution_count": 18,
   "metadata": {
    "collapsed": true
   },
   "outputs": [],
   "source": [
    "def getExcludedTopics():\n",
    "    topicList = ''\n",
    "    return(topicList.split())\n",
    "\n",
    "def getTopics(includedRegions, session, excludedTopics):\n",
    "    snsRegions = getShortlistedRegions(includedRegions, getAllRegionsForService('sns', session))\n",
    "    topics = []\n",
    "    for region in snsRegions:\n",
    "            print(\"Region: {}\".format(region))\n",
    "            sns = createResourceObj('sns', region)\n",
    "            for topic in sns.topics.all():\n",
    "                if(topic.arn not in excludedTopics):\n",
    "                    topics.append(topic)\n",
    "    return(topics)"
   ]
  },
  {
   "cell_type": "code",
   "execution_count": 19,
   "metadata": {
    "collapsed": true
   },
   "outputs": [],
   "source": [
    "def deleteTopics(includedRegions, session):\n",
    "    topics = getTopics(includedRegions, session, getExcludedTopics())\n",
    "    for topic in topics:\n",
    "        response = topic.delete()\n",
    "        if(response['ResponseMetadata']['HTTPStatusCode'] != 200):\n",
    "            print(\"Something went wrong\")\n",
    "            #Add Twilio code here\n",
    "            pprint(response)\n",
    "        else:\n",
    "            print(\"Deleted:\")\n",
    "            print(\"++++++++++\")\n",
    "            pprint(response)\n",
    "    print(\"SNS: Topics: All done!\")"
   ]
  },
  {
   "cell_type": "markdown",
   "metadata": {},
   "source": [
    "## S3 Buckets"
   ]
  },
  {
   "cell_type": "code",
   "execution_count": 20,
   "metadata": {
    "collapsed": true
   },
   "outputs": [],
   "source": [
    "def getExcludedBucketNames():\n",
    "    return('chiragbilling chiragwebsite'.split())\n",
    "\n",
    "def listValidBuckets(s3):\n",
    "    validBuckets = []\n",
    "    for bucket in s3.buckets.all():\n",
    "        print(bucket.name)\n",
    "        if(bucket.name not in getExcludedBucketNames()):\n",
    "            print(\"Added bucket\")\n",
    "            validBuckets.append(bucket)\n",
    "    return(validBuckets)\n",
    "\n",
    "def deleteObjects(s3, validBuckets):\n",
    "    Delete = {'Objects':[]}\n",
    "    for bucket in validBuckets:\n",
    "        for page in bucket.objects.pages():\n",
    "            for obj in page:\n",
    "                print(obj.key)\n",
    "                Delete['Objects'].append({\n",
    "                    'Key' : obj.key\n",
    "                })\n",
    "            bucket.delete_objects(Delete=Delete)\n",
    "            print(\"Page complete. Deleted objects\")\n",
    "        print(\"All pages complete.\")\n",
    "\n",
    "def deleteS3Buckets():\n",
    "    s3 = createResourceObj('s3', 'ap-south-1')\n",
    "    validBuckets = listValidBuckets(s3)\n",
    "    deleteObjects(s3, validBuckets)\n",
    "    for bucket in validBuckets:\n",
    "        bucket.delete()\n",
    "        print(\"Bucket deleted!\")\n",
    "    print(\"S3: All done!\")"
   ]
  },
  {
   "cell_type": "markdown",
   "metadata": {},
   "source": [
    "## DynamoDB"
   ]
  },
  {
   "cell_type": "code",
   "execution_count": 21,
   "metadata": {
    "collapsed": false
   },
   "outputs": [],
   "source": [
    "def getTableList(dynamo):\n",
    "    tableList = []\n",
    "    for table in dynamo.tables.all():\n",
    "        tableList.append(table)\n",
    "    return(tableList)\n",
    "\n",
    "def deleteTableList(tableList):\n",
    "    for table in tableList:\n",
    "            response = table.delete()\n",
    "            if(response['ResponseMetadata']['HTTPStatusCode']!=200):\n",
    "                print(\"Something went wrong!\")\n",
    "                #Add twilio code here\n",
    "            else:\n",
    "                print(\"Success!\")\n",
    "                pprint(response)\n",
    "\n",
    "def deleteDynamoTables(includedRegions, session):\n",
    "    validRegions = getShortlistedRegions(includedRegions, getAllRegionsForService('dynamodb', session))\n",
    "    for region in validRegions:\n",
    "        print(\"Region: {}\".format(region))\n",
    "        dynamo = createResourceObj('dynamodb', region)\n",
    "        tableList = getTableList(dynamo)\n",
    "        deleteTableList(tableList)\n",
    "    print(\"DynamoDB: All done!\")"
   ]
  },
  {
   "cell_type": "markdown",
   "metadata": {},
   "source": [
    "## SQS"
   ]
  },
  {
   "cell_type": "code",
   "execution_count": 22,
   "metadata": {
    "collapsed": true
   },
   "outputs": [],
   "source": [
    "def getAllQueues(sqs):\n",
    "    return(sqs.queues.all())\n",
    "\n",
    "def deleteQueue(queue):\n",
    "    response = queue.delete()\n",
    "    if(response['ResponseMetadata']['HTTPStatusCode']!=200):\n",
    "        print(\"Something went wrong!\")\n",
    "        pprint(response)\n",
    "        #Add twilio code here\n",
    "    else:\n",
    "        print(\"Success!\")\n",
    "        pprint(response)\n",
    "\n",
    "def deleteSQS(includedRegions):\n",
    "    validRegions = getShortlistedRegions(includedRegions, getAllRegionsForService('sqs', session))\n",
    "    for region in validRegions:\n",
    "        sqs = createResourceObj('sqs', region)\n",
    "        for q in getAllQueues(sqs):\n",
    "            deleteQueue(q)\n",
    "    print(\"SQS: All done!\")"
   ]
  },
  {
   "cell_type": "markdown",
   "metadata": {},
   "source": [
    "## Elastic Beanstalk"
   ]
  },
  {
   "cell_type": "markdown",
   "metadata": {},
   "source": [
    "### Needs more testing (but usable):"
   ]
  },
  {
   "cell_type": "code",
   "execution_count": 58,
   "metadata": {
    "collapsed": true
   },
   "outputs": [],
   "source": [
    "def getEnvironmentIds(beanstalk):\n",
    "    envs = beanstalk.describe_environments()['Environments']\n",
    "    envIds = []\n",
    "    for env in envs:\n",
    "        envIds.append(env['EnvironmentId'])\n",
    "    return(envIds)\n",
    "\n",
    "def terminateEnvironments(beanstalk, envIds):\n",
    "    res = False\n",
    "    for envId in envIds:\n",
    "        res = beanstalk.terminate_environment(EnvironmentId=envId, ForceTerminate=True)\n",
    "        if(res['Status'] != 'Terminating' or res['Status'] != 'Terminated'):\n",
    "            print(\"Something went wrong!\")\n",
    "            pprint(res)\n",
    "            res = False\n",
    "            #Add twilio section here\n",
    "        else:\n",
    "            pprint(res)\n",
    "            print(\"All good\")\n",
    "            res = True\n",
    "    return(res)"
   ]
  },
  {
   "cell_type": "code",
   "execution_count": 59,
   "metadata": {
    "collapsed": true
   },
   "outputs": [],
   "source": [
    "def getApplicationNames(beanstalk):\n",
    "    applications = beanstalk.describe_applications()['Applications']\n",
    "    applicationNames = []\n",
    "    for application in applications:\n",
    "        pprint(application)\n",
    "        applicationNames.append(application['ApplicationName'])  \n",
    "    return(applicationNames)"
   ]
  },
  {
   "cell_type": "code",
   "execution_count": 60,
   "metadata": {
    "collapsed": true
   },
   "outputs": [],
   "source": [
    "def terminateApplications(beanstalk, applicationNames):\n",
    "    for applicationName in applicationNames:\n",
    "        beanstalk.delete_application(ApplicationName=applicationName,\n",
    "                                     TerminateEnvByForce=True)  \n",
    "    print(\"Application terminated\")"
   ]
  },
  {
   "cell_type": "code",
   "execution_count": 61,
   "metadata": {
    "collapsed": true
   },
   "outputs": [],
   "source": [
    "def deleteBeanstalk(includedRegions):\n",
    "    for region in includedRegions:\n",
    "        print(\"Region: {}\".format(region))\n",
    "        beanstalk = createClient('elasticbeanstalk', region)\n",
    "        envIds = getEnvironmentIds(beanstalk)\n",
    "        applicationNames = getApplicationNames(beanstalk)\n",
    "        terminateEnvironments(beanstalk, envIds)\n",
    "        terminateApplications(beanstalk, applicationNames)"
   ]
  },
  {
   "cell_type": "markdown",
   "metadata": {},
   "source": [
    "# Not Tested:"
   ]
  },
  {
   "cell_type": "markdown",
   "metadata": {},
   "source": [
    "************************************************************************************************************"
   ]
  },
  {
   "cell_type": "markdown",
   "metadata": {},
   "source": [
    "## Testing Section"
   ]
  },
  {
   "cell_type": "code",
   "execution_count": 23,
   "metadata": {
    "collapsed": true
   },
   "outputs": [],
   "source": [
    "excludedRegions = ['us-east-1']\n",
    "excludedServices = ['cloudwatch', 'budgets']"
   ]
  },
  {
   "cell_type": "code",
   "execution_count": 24,
   "metadata": {
    "collapsed": true
   },
   "outputs": [],
   "source": [
    "session = createSession()\n",
    "# allRegions = getAllRegions(session)\n",
    "# allServicesRegions = getAllServicesAndRegions(session)\n",
    "# allServices = getAllServices(session)\n",
    "includedRegions = getIncludedRegions(excludedRegions, session)\n",
    "includedServices = getIncludedServices(excludedServices, session)\n",
    "# ec2Regions = getAllRegionsForService('ec2', session)\n",
    "# ec2 = createResourceObj('ec2', 'ap-south-1')\n",
    "# ec22 = createResourceObj('ec2', 'sa-east-1')"
   ]
  },
  {
   "cell_type": "code",
   "execution_count": 25,
   "metadata": {
    "collapsed": false
   },
   "outputs": [
    {
     "data": {
      "text/plain": [
       "['cloudformation',\n",
       " 'cloudwatch',\n",
       " 'dynamodb',\n",
       " 'ec2',\n",
       " 'glacier',\n",
       " 'iam',\n",
       " 'opsworks',\n",
       " 's3',\n",
       " 'sns',\n",
       " 'sqs']"
      ]
     },
     "execution_count": 25,
     "metadata": {},
     "output_type": "execute_result"
    }
   ],
   "source": [
    "resourceObjCompatibleServices = \"cloudformation cloudwatch dynamodb ec2 glacier iam opsworks s3 sns sqs\".split()\n",
    "resourceObjCompatibleServices"
   ]
  },
  {
   "cell_type": "code",
   "execution_count": 88,
   "metadata": {
    "collapsed": true
   },
   "outputs": [],
   "source": [
    "def getRDSInstanceIdentifiers(rds):\n",
    "    rdsInstanceIdentifiers = []\n",
    "    rdsInstances = rds.describe_db_instances()['DBInstances']\n",
    "    for rdsInstance in rdsInstances:\n",
    "        rdsInstanceIdentifiers.append(rdsInstance['DBInstanceIdentifier'])\n",
    "    return(rdsInstanceIdentifiers)"
   ]
  },
  {
   "cell_type": "code",
   "execution_count": null,
   "metadata": {
    "collapsed": true
   },
   "outputs": [],
   "source": [
    "def handleRDSResponse(res):\n",
    "    if(res['DBInstance']['DBInstanceStatus'] != 'deleting'):\n",
    "    print(\"Something went wrong\")\n",
    "    # Add twilio code here\n",
    "    else:\n",
    "        print(\"DB Name: {0}; Status: {1}\".format(res['DBInstance']['DBName'], res['DBInstance']['DBInstanceStatus']))"
   ]
  },
  {
   "cell_type": "code",
   "execution_count": null,
   "metadata": {
    "collapsed": true
   },
   "outputs": [],
   "source": [
    "def deleteRDS(includedRegions):\n",
    "    for region in includedRegions:\n",
    "        rds = createClient('rds', region)\n",
    "        rdsInstances = getRDSInstanceIdentifiers(rds)\n",
    "        for identifier in rdsInstanceIdentifiers:\n",
    "        res = rds.delete_db_instance(DBInstanceIdentifier=identifier, SkipFinalSnapshot=True)\n",
    "        handleRDSResponse(res)\n",
    "    print(\"RDS: All done\")"
   ]
  },
  {
   "cell_type": "code",
   "execution_count": 85,
   "metadata": {
    "collapsed": true
   },
   "outputs": [],
   "source": [
    "iot = createClient('athena', 'ap-south-1')"
   ]
  },
  {
   "cell_type": "code",
   "execution_count": 70,
   "metadata": {
    "collapsed": false
   },
   "outputs": [],
   "source": [
    "rdsInstances = rds.describe_db_instances()['DBInstances']"
   ]
  },
  {
   "cell_type": "code",
   "execution_count": 75,
   "metadata": {
    "collapsed": false
   },
   "outputs": [],
   "source": [
    "rdsInstanceIdentifiers = []\n",
    "for rdsInstance in rdsInstances:\n",
    "    rdsInstanceIdentifiers.append(rdsInstance['DBInstanceIdentifier'])"
   ]
  },
  {
   "cell_type": "code",
   "execution_count": 77,
   "metadata": {
    "collapsed": false,
    "scrolled": true
   },
   "outputs": [
    {
     "name": "stdout",
     "output_type": "stream",
     "text": [
      "{'DBInstance': {'AllocatedStorage': 20,\n",
      "                'AutoMinorVersionUpgrade': True,\n",
      "                'AvailabilityZone': 'ap-south-1a',\n",
      "                'BackupRetentionPeriod': 7,\n",
      "                'CACertificateIdentifier': 'rds-ca-2015',\n",
      "                'CopyTagsToSnapshot': False,\n",
      "                'DBInstanceArn': 'arn:aws:rds:ap-south-1:522550275729:db:testinstance',\n",
      "                'DBInstanceClass': 'db.t2.micro',\n",
      "                'DBInstanceIdentifier': 'testinstance',\n",
      "                'DBInstanceStatus': 'deleting',\n",
      "                'DBName': 'test',\n",
      "                'DBParameterGroups': [{'DBParameterGroupName': 'default.mysql5.6',\n",
      "                                       'ParameterApplyStatus': 'in-sync'}],\n",
      "                'DBSecurityGroups': [],\n",
      "                'DBSubnetGroup': {'DBSubnetGroupDescription': 'default',\n",
      "                                  'DBSubnetGroupName': 'default',\n",
      "                                  'SubnetGroupStatus': 'Complete',\n",
      "                                  'Subnets': [{'SubnetAvailabilityZone': {'Name': 'ap-south-1b'},\n",
      "                                               'SubnetIdentifier': 'subnet-ba7752f7',\n",
      "                                               'SubnetStatus': 'Active'},\n",
      "                                              {'SubnetAvailabilityZone': {'Name': 'ap-south-1a'},\n",
      "                                               'SubnetIdentifier': 'subnet-6667890e',\n",
      "                                               'SubnetStatus': 'Active'}],\n",
      "                                  'VpcId': 'vpc-4b937523'},\n",
      "                'DbInstancePort': 0,\n",
      "                'DbiResourceId': 'db-HTZTFU65UA26TKNPGI2FLRMT6I',\n",
      "                'DomainMemberships': [],\n",
      "                'Endpoint': {'Address': 'testinstance.cirgiev1jgid.ap-south-1.rds.amazonaws.com',\n",
      "                             'HostedZoneId': 'Z2VFMSZA74J7XZ',\n",
      "                             'Port': 3306},\n",
      "                'Engine': 'mysql',\n",
      "                'EngineVersion': '5.6.37',\n",
      "                'IAMDatabaseAuthenticationEnabled': False,\n",
      "                'InstanceCreateTime': datetime.datetime(2017, 12, 9, 14, 23, 34, 648000, tzinfo=tzutc()),\n",
      "                'LatestRestorableTime': datetime.datetime(2017, 12, 9, 14, 25, 2, 203000, tzinfo=tzutc()),\n",
      "                'LicenseModel': 'general-public-license',\n",
      "                'MasterUsername': 'chirag',\n",
      "                'MonitoringInterval': 0,\n",
      "                'MultiAZ': False,\n",
      "                'OptionGroupMemberships': [{'OptionGroupName': 'default:mysql-5-6',\n",
      "                                            'Status': 'in-sync'}],\n",
      "                'PendingModifiedValues': {},\n",
      "                'PerformanceInsightsEnabled': False,\n",
      "                'PreferredBackupWindow': '19:21-19:51',\n",
      "                'PreferredMaintenanceWindow': 'fri:09:13-fri:09:43',\n",
      "                'PubliclyAccessible': False,\n",
      "                'ReadReplicaDBInstanceIdentifiers': [],\n",
      "                'StorageEncrypted': False,\n",
      "                'StorageType': 'gp2',\n",
      "                'VpcSecurityGroups': [{'Status': 'active',\n",
      "                                       'VpcSecurityGroupId': 'sg-61571d09'},\n",
      "                                      {'Status': 'active',\n",
      "                                       'VpcSecurityGroupId': 'sg-2b531943'}]},\n",
      " 'ResponseMetadata': {'HTTPHeaders': {'content-length': '3894',\n",
      "                                      'content-type': 'text/xml',\n",
      "                                      'date': 'Sat, 09 Dec 2017 14:26:47 GMT',\n",
      "                                      'vary': 'Accept-Encoding',\n",
      "                                      'x-amzn-requestid': 'fb2cd333-bc3d-4f7a-a209-7a6fef7e35e6'},\n",
      "                      'HTTPStatusCode': 200,\n",
      "                      'RequestId': 'fb2cd333-bc3d-4f7a-a209-7a6fef7e35e6',\n",
      "                      'RetryAttempts': 0}}\n"
     ]
    }
   ],
   "source": [
    "res = ''\n",
    "for identifier in rdsInstanceIdentifiers:\n",
    "    res = rds.delete_db_instance(DBInstanceIdentifier=identifier, SkipFinalSnapshot=True)\n",
    "pprint(res)"
   ]
  },
  {
   "cell_type": "code",
   "execution_count": 80,
   "metadata": {
    "collapsed": false
   },
   "outputs": [
    {
     "name": "stdout",
     "output_type": "stream",
     "text": [
      "DB Name: test; Status: deleting\n"
     ]
    }
   ],
   "source": [
    "if(res['DBInstance']['DBInstanceStatus'] != 'deleting'):\n",
    "    print(\"Something went wrong\")\n",
    "else:\n",
    "    print(\"DB Name: {0}; Status: {1}\".format(res['DBInstance']['DBName'], res['DBInstance']['DBInstanceStatus']))"
   ]
  },
  {
   "cell_type": "markdown",
   "metadata": {
    "collapsed": true
   },
   "source": [
    "## Changes:\n",
    "\n",
    "1. use Sets"
   ]
  }
 ],
 "metadata": {
  "kernelspec": {
   "display_name": "Python [default]",
   "language": "python",
   "name": "python3"
  },
  "language_info": {
   "codemirror_mode": {
    "name": "ipython",
    "version": 3
   },
   "file_extension": ".py",
   "mimetype": "text/x-python",
   "name": "python",
   "nbconvert_exporter": "python",
   "pygments_lexer": "ipython3",
   "version": "3.6.0"
  }
 },
 "nbformat": 4,
 "nbformat_minor": 2
}
