{
 "cells": [
  {
   "cell_type": "code",
   "execution_count": 24,
   "metadata": {},
   "outputs": [],
   "source": [
    "import boto3, json\n",
    "from pprint import pprint"
   ]
  },
  {
   "cell_type": "code",
   "execution_count": 15,
   "metadata": {},
   "outputs": [],
   "source": [
    "def getIncludedRegions(allRegions, excludedRegions):\n",
    "    return([region for region in allRegions if region not in excludedRegions])\n",
    "\n",
    "def getIncludedServices(allServices, excludedServices):\n",
    "    return([service for service in allServices if service not in excludedServices])"
   ]
  },
  {
   "cell_type": "code",
   "execution_count": 16,
   "metadata": {},
   "outputs": [],
   "source": [
    "def getInstanceIds(reservations):\n",
    "    instanceIds = []\n",
    "    for reservation in reservations['Instances']:\n",
    "        for instance in reservation[\"Instances\"]:\n",
    "            instanceIds.append(instance['InstanceId'])\n",
    "    return(instanceIds)"
   ]
  },
  {
   "cell_type": "code",
   "execution_count": 17,
   "metadata": {},
   "outputs": [],
   "source": [
    "def deleteEC2Instances(includedRegions, ec2Client):\n",
    "    reservations = ec2client.describe_instances(Filters=[{'Name' : 'instance-state-name', 'Values' : ['running']}])\n",
    "    instanceIds = getInstanceIds(reservations)\n",
    "    response = ec2client.terminate_instances(InstanceIds=[instanceIds],DryRun=False)\n",
    "    return(response)"
   ]
  },
  {
   "cell_type": "code",
   "execution_count": 18,
   "metadata": {},
   "outputs": [],
   "source": [
    "def getVolumeIds(response):\n",
    "    volumeIds = []\n",
    "    for volume in response['Volumes']:\n",
    "        volumeIds.append(volume[\"VolumeId\"])\n",
    "    return(volumeIds)"
   ]
  },
  {
   "cell_type": "code",
   "execution_count": 19,
   "metadata": {},
   "outputs": [],
   "source": [
    "def deleteVolumes(includedRegions, ec2Client):\n",
    "    response = ec2Client.describe_volumes(Filters=[{'Name' : 'attachment.status', 'Values' : ['detached']}])\n",
    "    volumeIds = getVolumeIds(response)\n",
    "    for volumeId in volumeIds:\n",
    "        ec2Client.delete_volume(VolumeId=volumeId,DryRun=False)"
   ]
  },
  {
   "cell_type": "code",
   "execution_count": 20,
   "metadata": {},
   "outputs": [],
   "source": [
    "def getAllServices(session):\n",
    "    return(session.get_available_services())"
   ]
  },
  {
   "cell_type": "code",
   "execution_count": 21,
   "metadata": {},
   "outputs": [],
   "source": [
    "def getAllRegions(allServices, session):\n",
    "    serviceDict = {}\n",
    "    for service in allServices:\n",
    "        availableRegions = session.get_available_regions(service, partition_name='aws')\n",
    "        serviceDict[service] = availableRegions\n",
    "    allRegions = serviceDict['ec2']\n",
    "    return(allRegions)"
   ]
  },
  {
   "cell_type": "code",
   "execution_count": 26,
   "metadata": {},
   "outputs": [],
   "source": [
    "def getAllServicesAndRegions(allServices, session):\n",
    "    serviceDict = {}\n",
    "    for service in allServices:\n",
    "        availableRegions = session.get_available_regions(service, partition_name='aws')\n",
    "        serviceDict[service] = availableRegions\n",
    "    return(serviceDict)"
   ]
  },
  {
   "cell_type": "code",
   "execution_count": 22,
   "metadata": {},
   "outputs": [],
   "source": [
    "def getAWSCreds():\n",
    "    credentials = json.load(open('./credentials.json'))\n",
    "    awsCreds = credentials['aws']\n",
    "    return(awsCreds)"
   ]
  },
  {
   "cell_type": "code",
   "execution_count": 25,
   "metadata": {},
   "outputs": [],
   "source": [
    "accessKey = getAWSCreds()['accessKey']\n",
    "secretKey = getAWSCreds()['secretKey']"
   ]
  },
  {
   "cell_type": "code",
   "execution_count": 12,
   "metadata": {},
   "outputs": [],
   "source": [
    "session = boto3.session.Session(aws_access_key_id=accessKey, aws_secret_access_key=secretKey)\n",
    "allServices = getAllServices(session)\n",
    "allRegions = getAllRegions(allServices, session)"
   ]
  },
  {
   "cell_type": "code",
   "execution_count": 30,
   "metadata": {},
   "outputs": [],
   "source": [
    "test = getAllServicesAndRegions(allServices, session)"
   ]
  },
  {
   "cell_type": "code",
   "execution_count": 27,
   "metadata": {},
   "outputs": [],
   "source": [
    "excludedRegions = ['us-west-1']\n",
    "excludedServices = ['cloudwatch', 'budgets']"
   ]
  },
  {
   "cell_type": "code",
   "execution_count": 28,
   "metadata": {},
   "outputs": [],
   "source": [
    "includedRegions = getIncludedRegions(allRegions, excludedRegions)\n",
    "includedServices = getIncludedServices(allServices, excludedServices)\n",
    "ec2client = boto3.client('ec2', aws_access_key_id=accessKey, aws_secret_access_key=secretKey)"
   ]
  },
  {
   "cell_type": "code",
   "execution_count": 19,
   "metadata": {},
   "outputs": [],
   "source": [
    "# deleteEC2Instances(includedRegions=includedRegions, ec2Client=ec2client)\n",
    "reservations = ec2client.describe_instances(Filters=[{'Name' : 'instance-state-name', 'Values' : ['running']}])"
   ]
  },
  {
   "cell_type": "code",
   "execution_count": 22,
   "metadata": {},
   "outputs": [
    {
     "data": {
      "text/plain": [
       "[]"
      ]
     },
     "execution_count": 22,
     "metadata": {},
     "output_type": "execute_result"
    }
   ],
   "source": [
    "reservations['Reservations']"
   ]
  }
 ],
 "metadata": {
  "kernelspec": {
   "display_name": "Python 3",
   "language": "python",
   "name": "python3"
  },
  "language_info": {
   "codemirror_mode": {
    "name": "ipython",
    "version": 3
   },
   "file_extension": ".py",
   "mimetype": "text/x-python",
   "name": "python",
   "nbconvert_exporter": "python",
   "pygments_lexer": "ipython3",
   "version": "3.5.4"
  }
 },
 "nbformat": 4,
 "nbformat_minor": 2
}
