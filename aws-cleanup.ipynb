{
 "cells": [
  {
   "cell_type": "code",
   "execution_count": 16,
   "metadata": {
    "collapsed": true
   },
   "outputs": [],
   "source": [
    "import boto3, json\n",
    "from pprint import pprint"
   ]
  },
  {
   "cell_type": "code",
   "execution_count": 17,
   "metadata": {
    "collapsed": true
   },
   "outputs": [],
   "source": [
    "def getAWSCreds():\n",
    "    credentials = json.load(open('../esrcd.json'))\n",
    "    awsCreds = credentials['aws']\n",
    "    return(awsCreds)"
   ]
  },
  {
   "cell_type": "code",
   "execution_count": 63,
   "metadata": {
    "collapsed": true
   },
   "outputs": [],
   "source": [
    "def createSession():\n",
    "    session = boto3.session.Session(aws_access_key_id=getAWSCreds()['accessKey'], \n",
    "                                    aws_secret_access_key=getAWSCreds()['secretKey'])\n",
    "    return(session)\n",
    "\n",
    "def createResourceObj(resourceName, regionName):\n",
    "    resource = boto3.resource(resourceName, region_name=regionName, \n",
    "                              aws_access_key_id=getAWSCreds()['accessKey'], \n",
    "                              aws_secret_access_key=getAWSCreds()['secretKey'])\n",
    "    return(resource)"
   ]
  },
  {
   "cell_type": "code",
   "execution_count": 19,
   "metadata": {
    "collapsed": true
   },
   "outputs": [],
   "source": [
    "def getAllRegions(session):\n",
    "    return(session.get_available_regions('ec2', partition_name='aws'))\n",
    "\n",
    "def getAllServices(session):\n",
    "    return(session.get_available_services())"
   ]
  },
  {
   "cell_type": "code",
   "execution_count": 30,
   "metadata": {
    "collapsed": true
   },
   "outputs": [],
   "source": [
    "def getAllServicesAndRegions(session):\n",
    "    allServices = getAllServices(session)\n",
    "    serviceDict = {}\n",
    "    for service in allServices:\n",
    "        availableRegions = session.get_available_regions(service, partition_name='aws')\n",
    "        serviceDict[service] = availableRegions\n",
    "    return(serviceDict)"
   ]
  },
  {
   "cell_type": "code",
   "execution_count": 42,
   "metadata": {
    "collapsed": true
   },
   "outputs": [],
   "source": [
    "def getAllRegionsForService(serviceName, session):\n",
    "    return(session.get_available_regions(serviceName, partition_name='aws'))"
   ]
  },
  {
   "cell_type": "code",
   "execution_count": 34,
   "metadata": {
    "collapsed": true
   },
   "outputs": [],
   "source": [
    "def getIncludedRegions(excludedRegions, session):\n",
    "    allRegions = getAllRegions(session)\n",
    "    return([region for region in allRegions if region not in excludedRegions])\n",
    "\n",
    "def getIncludedServices(excludedServices, session):\n",
    "    allServices = getAllServices(session)\n",
    "    return([service for service in allServices if service not in excludedServices])"
   ]
  },
  {
   "cell_type": "code",
   "execution_count": 170,
   "metadata": {
    "collapsed": true
   },
   "outputs": [],
   "source": [
    "def deleteEC2Instances(includedRegions):\n",
    "    instanceIds = listEC2InstanceIds(includedRegions)\n",
    "    for region in instanceIds.keys():\n",
    "        ec2 = createResourceObj('ec2', region)\n",
    "        for instanceId in instanceIds[region]:\n",
    "            instance = ec2.Instance(id=instanceId).terminate(DryRun=False)\n",
    "            print(\"Deleted!\")\n",
    "\n",
    "def listEC2InstanceIds(includedRegions):\n",
    "    instanceIds = {}\n",
    "    for region in includedRegions:\n",
    "        ec2 = createResourceObj('ec2', region)\n",
    "        instances = ec2.instances.filter(\n",
    "        Filters=[{'Name': 'instance-state-name', 'Values': ['running']}])\n",
    "        for instance in instances:\n",
    "            if(region not in instanceIds.keys()):\n",
    "                instanceIds.setdefault(region,[]).append(instance.id)\n",
    "            else:\n",
    "                instanceIds[region].append(instance.id)\n",
    "    pprint(instanceIds)\n",
    "    return(instanceIds)"
   ]
  },
  {
   "cell_type": "markdown",
   "metadata": {},
   "source": [
    "# Not Tested:"
   ]
  },
  {
   "cell_type": "code",
   "execution_count": 23,
   "metadata": {
    "collapsed": true
   },
   "outputs": [],
   "source": [
    "def deleteVolumes(includedRegions, ec2Client):\n",
    "    response = ec2Client.describe_volumes(Filters=[{'Name' : 'attachment.status', 'Values' : ['detached']}])\n",
    "    volumeIds = getVolumeIds(response)\n",
    "    for volumeId in volumeIds:\n",
    "        ec2Client.delete_volume(VolumeId=volumeId,DryRun=False)"
   ]
  },
  {
   "cell_type": "markdown",
   "metadata": {},
   "source": [
    "************************************************************************************************************"
   ]
  },
  {
   "cell_type": "code",
   "execution_count": 25,
   "metadata": {
    "collapsed": true
   },
   "outputs": [],
   "source": [
    "excludedRegions = ['us-west-1']\n",
    "excludedServices = ['cloudwatch', 'budgets']"
   ]
  },
  {
   "cell_type": "code",
   "execution_count": 52,
   "metadata": {
    "collapsed": false
   },
   "outputs": [],
   "source": [
    "session = createSession()\n",
    "allRegions = getAllRegions(session)\n",
    "allServicesRegions = getAllServicesAndRegions(session)\n",
    "allServices = getAllServices(session)\n",
    "includedRegions = getIncludedRegions(excludedRegions, session)\n",
    "includedServices = getIncludedServices(excludedServices, session)\n",
    "ec2Regions = getAllRegionsForService('ec2', session)\n",
    "ec2 = createResource('ec2', 'ap-south-1')\n",
    "ec22 = createResource('ec2', 'sa-east-1')\n"
   ]
  }
 ],
 "metadata": {
  "kernelspec": {
   "display_name": "Python [default]",
   "language": "python",
   "name": "python3"
  },
  "language_info": {
   "codemirror_mode": {
    "name": "ipython",
    "version": 3
   },
   "file_extension": ".py",
   "mimetype": "text/x-python",
   "name": "python",
   "nbconvert_exporter": "python",
   "pygments_lexer": "ipython3",
   "version": "3.6.0"
  }
 },
 "nbformat": 4,
 "nbformat_minor": 2
}
